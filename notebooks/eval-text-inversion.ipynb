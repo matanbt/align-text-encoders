{
 "cells": [
  {
   "cell_type": "code",
   "id": "initial_id",
   "metadata": {
    "collapsed": true,
    "ExecuteTime": {
     "end_time": "2024-10-17T13:54:28.713228Z",
     "start_time": "2024-10-17T13:54:28.711135Z"
    }
   },
   "source": [
    "import json\n",
    "import torch"
   ],
   "outputs": [],
   "execution_count": 27
  },
  {
   "metadata": {
    "ExecuteTime": {
     "end_time": "2024-10-17T13:54:28.722679Z",
     "start_time": "2024-10-17T13:54:28.713228Z"
    }
   },
   "cell_type": "code",
   "source": [
    "# with open('../out/eval_results_text_inversion__nq.corr.sources.json', 'r') as f:\n",
    "with open('../out/gtr-to-e5--trans/eval_results_text_inversion__nq.json', 'r') as f:\n",
    "    eval_results = json.load(f)"
   ],
   "id": "377fa7aa830aa87e",
   "outputs": [],
   "execution_count": 28
  },
  {
   "metadata": {
    "ExecuteTime": {
     "end_time": "2024-10-17T13:54:28.747885Z",
     "start_time": "2024-10-17T13:54:28.743253Z"
    }
   },
   "cell_type": "code",
   "source": "eval_results.keys()",
   "id": "72c9cda3efd05c11",
   "outputs": [
    {
     "data": {
      "text/plain": [
       "dict_keys(['pairs_of_source_w_aligned', 'data_to_invert'])"
      ]
     },
     "execution_count": 29,
     "metadata": {},
     "output_type": "execute_result"
    }
   ],
   "execution_count": 29
  },
  {
   "metadata": {
    "ExecuteTime": {
     "end_time": "2024-10-17T13:54:28.752951Z",
     "start_time": "2024-10-17T13:54:28.748895Z"
    }
   },
   "cell_type": "code",
   "source": "eval_results['pairs_of_source_w_aligned']['text_pairs'][0]",
   "id": "7a10c3bd366facf6",
   "outputs": [
    {
     "data": {
      "text/plain": [
       "{'text': 'has been consistently named the best coffee in India by the Coffee Board of India\\'s annual \"Flavour of India – Fine Cup Award\", ',\n",
       " 'inv_text': 'is ranked among the Top 5 in India for winning The Annual Coffee Association of India Best Coffee Award for Overall flavour and quantity for The India Coffee Board.',\n",
       " 'cosine': 0.9726678133010864}"
      ]
     },
     "execution_count": 30,
     "metadata": {},
     "output_type": "execute_result"
    }
   ],
   "execution_count": 30
  },
  {
   "metadata": {
    "ExecuteTime": {
     "end_time": "2024-10-17T13:54:36.221999Z",
     "start_time": "2024-10-17T13:54:36.214693Z"
    }
   },
   "cell_type": "code",
   "source": [
    "texts, inv_texts = [], []\n",
    "for pair in eval_results['pairs_of_source_w_aligned']['text_pairs']:\n",
    "# for pair in eval_results['pairs_of_source']['text_pairs']:\n",
    "# for pair in eval_results['pairs_of_target']['text_pairs']:\n",
    "    # print(pair)\n",
    "    text, inv_text = pair['text'], pair['inv_text']\n",
    "    texts.append(text)\n",
    "    inv_texts.append(inv_text)"
   ],
   "id": "315988ed533bbb4c",
   "outputs": [],
   "execution_count": 31
  },
  {
   "metadata": {
    "ExecuteTime": {
     "end_time": "2024-10-17T13:54:36.262996Z",
     "start_time": "2024-10-17T13:54:36.252651Z"
    }
   },
   "cell_type": "code",
   "source": [
    "def print_top_k(scores, _texts=texts, _inv_texts=inv_texts, top_k=10):\n",
    "    # Find top-scored pairs\n",
    "    top_k_indices = torch.argsort(scores, descending=True)[:top_k]\n",
    "    \n",
    "    # Print the corresponding pairs\n",
    "    for i in top_k_indices:\n",
    "        print(f'   >>{_texts[i]} \\n   >>{_inv_texts[i]}')\n",
    "        print(\"-------------------\")"
   ],
   "id": "f6713715c13ed3",
   "outputs": [],
   "execution_count": 32
  },
  {
   "metadata": {},
   "cell_type": "markdown",
   "source": "## Evaluate BERTScore",
   "id": "e85469b84264ffed"
  },
  {
   "metadata": {
    "ExecuteTime": {
     "end_time": "2024-10-17T13:55:10.074224Z",
     "start_time": "2024-10-17T13:54:36.264001Z"
    }
   },
   "cell_type": "code",
   "source": [
    "import evaluate\n",
    "\n",
    "bertscore = evaluate.load(\"bertscore\")\n",
    "bertscore_results = bertscore.compute(predictions=inv_texts, references=texts, lang=\"en\")\n",
    "bertscore_results = torch.tensor(bertscore_results['f1'])"
   ],
   "id": "dec348c7cdfacaf6",
   "outputs": [
    {
     "name": "stderr",
     "output_type": "stream",
     "text": [
      "Some weights of RobertaModel were not initialized from the model checkpoint at roberta-large and are newly initialized: ['roberta.pooler.dense.bias', 'roberta.pooler.dense.weight']\n",
      "You should probably TRAIN this model on a down-stream task to be able to use it for predictions and inference.\n"
     ]
    }
   ],
   "execution_count": 33
  },
  {
   "metadata": {
    "ExecuteTime": {
     "end_time": "2024-10-17T14:26:09.970948Z",
     "start_time": "2024-10-17T14:26:09.965619Z"
    }
   },
   "cell_type": "code",
   "source": "print_top_k(-1 * bertscore_results)",
   "id": "6daeca33276d235",
   "outputs": [
    {
     "name": "stdout",
     "output_type": "stream",
     "text": [
      "   >>Raksha Sainyam Raksha Sainyam (രക്ഷാസൈന്യം) is the Malayalam term used for the Salvation Army in Kerala, India. Ratchannai Senai \n",
      "   >>Krishnasen Rita is the Kerala Sambhikary (Rakam) or Sri Lankan Sambhikary (Rakam) organization\n",
      "-------------------\n",
      "   >>Michalis Paraskevas Michalis Paraskevas (Greek: Μιχάλης Παρασκευάς), is a Cypriot lawyer and activist. His activism work primari \n",
      "   >>Petros Marriacicus is a Greek lawyer activist who has been since 1 January 2012, Marriacicus Marriacicus\n",
      "-------------------\n",
      "   >>he was in. Jonah Weiner of \"Slate\" magazine declared Swanson \"\"Parks and Recreation\"<nowiki>'</nowiki>s secret weapon\" and \"vita \n",
      "   >>actor recalled: \"Judy likened it to being among those for Parker-Senior and 'Wonski\n",
      "-------------------\n",
      "   >>Jesuit casuists who had been heavily attacked by Pascal in his \"Provincial Letters\") as \"propositiones laxorum moralistarum\" (pr \n",
      "   >>pseudo-Capanians of \"\" (\"\"; d. 1120) had sent vilious cases to Cardinal François de la Blanc\n",
      "-------------------\n",
      "   >>Finals Rd1 match 2 Semi-final 1 Semi-final 2 Finals Rd1 match 1 Finals Rd1 match 2 Semi-final 1 Semi-final 2 Finals Rd1 match 1  \n",
      "   >>in 1 Round 2 Round 3 Round 4 Round 5 Round 6 Round 7 Round 8 Round 9 Round 10 Round 11 Round 12 Round 13 Round 14 Round 15 Round\n",
      "-------------------\n",
      "   >>The Voice Thailand (season 5) The fifth series of The Voice \"เสียงจริงตัวจริง\" ( also known as The Voice Thailand ) on 11 Septem \n",
      "   >>the Thai season of 13 June 2015. The show is again the 5th Thai Voice contestant (e.g. 5th Thai Voice Final, Hour M\n",
      "-------------------\n",
      "   >>Fiona Dourif Fiona Dourif (born October 30, 1981) is an American actress and producer. She is known for her role as Bart Curlish \n",
      "   >>Robin Duffy is the actress who is 'Miss Fabien Bartholomew-Dyutich' (born\n",
      "-------------------\n",
      "   >>George Spyrou George Andrew Rankin Spyrou (14 April 1949 – 27 February 2010) was a Scottish businessman. Spyrou was the presiden \n",
      "   >>George Scott George Scott, was the 14th Lord President and CEO of London Pterodori (formerly PtyGO) in 1980, \n",
      "-------------------\n",
      "   >>Adoni-Bezek Adoni-Bezek, ( \"’Ăḏōnî-Ḇezeq\", \"lord of Bezek\"), also written Adonibezek or Adoni Bezek, was a Canaanite king referr \n",
      "   >>Aken Ababilousi Aken Ababilousi, the name of King Aken (Lord Szeb), is a contemporan\n",
      "-------------------\n",
      "   >>of the film, writing: \"The contrast between Laughton as the pathetic hunchback and O'Hara as the fresh-faced, tenderly solicitou \n",
      "   >>portrayal of the smarmy and snotty Otselton Hudson is gleeful, but \"the film amaze\n",
      "-------------------\n"
     ]
    }
   ],
   "execution_count": 40
  },
  {
   "metadata": {
    "ExecuteTime": {
     "end_time": "2024-10-17T13:55:10.090978Z",
     "start_time": "2024-10-17T13:55:10.080789Z"
    }
   },
   "cell_type": "code",
   "source": "bertscore_results.mean().item()",
   "id": "2d794253678d6a27",
   "outputs": [
    {
     "data": {
      "text/plain": [
       "0.859453022480011"
      ]
     },
     "execution_count": 35,
     "metadata": {},
     "output_type": "execute_result"
    }
   ],
   "execution_count": 35
  },
  {
   "metadata": {},
   "cell_type": "markdown",
   "source": "## Cosine Sim. of third-party embedding (Nomic)",
   "id": "2ebfd8b377ad2cac"
  },
  {
   "metadata": {
    "ExecuteTime": {
     "end_time": "2024-10-17T13:55:16.777698Z",
     "start_time": "2024-10-17T13:55:10.092491Z"
    }
   },
   "cell_type": "code",
   "source": [
    "# Cosine Sim. of third-party embedding\n",
    "# nomic-ai/nomic-embed-text-v1.5\n",
    "\n",
    "from sentence_transformers import SentenceTransformer\n",
    "\n",
    "model = SentenceTransformer(\"nomic-ai/nomic-embed-text-v1.5\", trust_remote_code=True)\n",
    "sentences = ['TSNE is a dimensionality reduction algorithm created by Laurens van Der Maaten']\n",
    "embeddings = model.encode(sentences)\n",
    "print(embeddings)\n"
   ],
   "id": "2701585a46148c68",
   "outputs": [
    {
     "name": "stderr",
     "output_type": "stream",
     "text": [
      "<All keys matched successfully>\n"
     ]
    },
    {
     "name": "stdout",
     "output_type": "stream",
     "text": [
      "[[ 5.11632562e-01  1.11381459e+00 -3.64767861e+00 -1.41410959e+00\n",
      "   2.75067747e-01  3.66615057e-01  2.36130565e-01  1.41984844e+00\n",
      "  -1.45862699e+00  5.46104729e-01 -2.60101855e-01  1.68805644e-01\n",
      "   2.49645352e+00 -9.45616290e-02 -2.14303613e-01  1.68305025e-01\n",
      "  -8.34194779e-01 -1.52528256e-01 -4.57077593e-01  2.39236876e-01\n",
      "  -2.40685657e-01 -7.15821922e-01 -8.04216802e-01 -1.06679022e+00\n",
      "   1.75600517e+00  2.77915210e-01 -2.44685747e-02  4.39256370e-01\n",
      "   3.10012817e-01 -9.53131840e-02  1.88017714e+00 -1.52821147e+00\n",
      "  -1.61872488e-02  9.36693996e-02 -9.22468364e-01  2.92257905e-01\n",
      "  -9.56503022e-03  2.85559595e-01 -6.56725839e-03 -7.78208748e-02\n",
      "  -5.26739478e-01 -6.45117819e-01 -1.15278649e+00 -4.98640448e-01\n",
      "   5.72908401e-01  1.25191405e-01  2.79295202e-02 -1.85146064e-01\n",
      "  -6.27781212e-01 -6.14796698e-01 -6.81977998e-03  2.63101608e-01\n",
      "   5.06523132e-01 -1.70898885e-01  8.97038519e-01  4.74085420e-01\n",
      "  -6.27662003e-01  7.93271840e-01  1.89658821e+00 -3.53785664e-01\n",
      "   2.24065155e-01  1.48469234e+00 -1.58672917e+00  2.04332447e+00\n",
      "   7.20733702e-01 -7.36292481e-01 -4.70946670e-01  1.23672867e+00\n",
      "   5.71795702e-01 -1.15887749e+00  1.50970623e-01 -5.67808092e-01\n",
      "   2.63050437e-01  3.86333078e-01  3.91971469e-01 -5.74493587e-01\n",
      "  -1.24841072e-01 -8.99058282e-01 -1.02333081e+00  1.59248257e+00\n",
      "  -4.46803749e-01  3.26206028e-01  5.48725247e-01  4.39776421e-01\n",
      "   6.76093519e-01  2.48166740e-01 -1.08174928e-01 -1.52782634e-01\n",
      "  -5.74600816e-01  1.82810569e+00  8.63987207e-03  4.29712892e-01\n",
      "   6.53019547e-01  4.40135092e-01 -1.27701592e+00 -4.07853693e-01\n",
      "   5.83366632e-01  9.56891239e-01 -6.49279580e-02 -6.45630240e-01\n",
      "  -1.65561616e-01 -7.11004078e-01 -5.38748384e-01 -6.75876796e-01\n",
      "   1.79466650e-01  1.00975895e+00 -3.45626444e-01 -4.05038118e-01\n",
      "   1.17777936e-01  1.90204173e-01  6.16517439e-02 -2.67397583e-01\n",
      "  -4.54094440e-01 -3.72660279e-01  1.54986814e-01 -5.39826632e-01\n",
      "   1.23435402e+00 -8.18658710e-01  6.51901364e-01  3.21817040e-01\n",
      "  -1.05304390e-01 -6.99606419e-01 -2.55368620e-01  8.40536058e-01\n",
      "   3.46517265e-01  6.06373012e-01 -9.53495204e-01  8.50895107e-01\n",
      "   9.61110592e-02 -7.59220600e-01 -4.91356790e-01  3.18831764e-02\n",
      "  -6.16480559e-02 -4.42327857e-01  1.67319581e-01  1.34533548e+00\n",
      "  -1.35654330e+00 -4.98443007e-01  8.39352131e-01  7.76419818e-01\n",
      "  -8.29543293e-01  5.17363846e-01 -2.79688597e-01 -4.08993244e-01\n",
      "  -6.56775951e-01 -8.02697659e-01 -3.80675375e-01 -2.77402848e-01\n",
      "  -9.53147411e-01 -3.79602425e-02  1.72348097e-01  3.18935849e-02\n",
      "  -2.74153382e-01 -5.14568269e-01  1.17106941e-02 -6.96546793e-01\n",
      "   2.12436602e-01  2.82840461e-01 -6.66488186e-02  7.18102157e-02\n",
      "   4.43854928e-01  3.16173464e-01 -7.19260378e-03  7.99710512e-01\n",
      "  -8.28335941e-01 -6.82865918e-01  9.13641676e-02  5.79587296e-02\n",
      "   1.20646015e-01  3.78014743e-02 -1.34456217e+00 -4.32618290e-01\n",
      "   4.37743396e-01  3.24435592e-01  5.24721265e-01 -6.67490959e-02\n",
      "   4.52482095e-03 -3.96521002e-01  7.61372328e-01 -9.40285902e-03\n",
      "   4.23753232e-01 -1.02035493e-01  1.48367023e+00  1.53639734e+00\n",
      "   4.55887794e-01 -2.07294121e-01  7.40148664e-01 -8.34016800e-01\n",
      "   1.75103713e-02 -1.03449416e+00  5.41025102e-01  1.98575780e-01\n",
      "  -8.00516009e-01 -8.27267408e-01 -1.97957397e-01 -7.32909679e-01\n",
      "   1.08346653e+00 -1.32210061e-01  7.42499053e-01 -9.61802006e-02\n",
      "  -1.23935544e+00  6.36300668e-02 -2.72923708e-01  3.08668852e-01\n",
      "  -7.88629651e-01  6.08569205e-01 -2.87760764e-01  6.27195239e-01\n",
      "  -1.29024625e-01  3.61480057e-01  1.14550364e+00  1.80363461e-01\n",
      "   3.47628474e-01 -2.86873132e-01 -2.66694188e-01 -5.95781147e-01\n",
      "  -5.27403057e-01 -1.78821176e-01  1.05868958e-01 -4.50606048e-01\n",
      "  -2.49876454e-02 -5.24281979e-01 -3.66148390e-02  4.53562349e-01\n",
      "   5.16252041e-01 -1.57454431e+00 -1.79033995e-01 -2.62080848e-01\n",
      "  -8.37747693e-01 -6.70411766e-01  1.79167062e-01 -5.95088959e-01\n",
      "   1.15725756e-01 -2.65075061e-02  1.60934329e-01  2.24099353e-01\n",
      "  -2.48809569e-02  1.53558087e+00  2.23980308e-01  1.66473746e-01\n",
      "  -7.65163898e-02  1.75742221e+00 -5.50776541e-01  6.26769587e-02\n",
      "   3.79956849e-02  4.71040718e-02 -2.31493592e-01 -1.01250589e+00\n",
      "   3.22789282e-01  7.42018521e-01 -1.14442503e+00 -9.19484377e-01\n",
      "  -4.62694764e-01  1.59038588e-01  4.33297157e-01 -3.47015619e-01\n",
      "  -5.57477951e-01  5.65878808e-01  6.71751797e-01  6.84736907e-01\n",
      "   2.94808000e-01  8.78607094e-01  9.72424030e-01 -5.35440683e-01\n",
      "  -2.25423768e-01 -6.21314108e-01 -3.15442860e-01  1.10176541e-01\n",
      "   1.10709882e+00 -6.51544809e-01  2.08299488e-01  8.55674446e-01\n",
      "   8.95767733e-02  2.26515919e-01  1.70078561e-01 -4.26676840e-01\n",
      "   1.19071221e+00 -5.37062325e-02 -1.59332275e+00  8.12492847e-01\n",
      "   1.01150706e-01  6.25492781e-02 -9.48826015e-01  1.88583098e-02\n",
      "   8.19869041e-02  1.29682767e+00  1.26942015e+00  9.76605862e-02\n",
      "   4.97936979e-02  2.19064891e-01  1.63799793e-01 -5.99642277e-01\n",
      "   4.57530878e-02  5.20693064e-01  1.09216779e-01  7.23451674e-01\n",
      "   1.47676587e+00 -3.48697215e-01  1.81027092e-02 -1.18925130e+00\n",
      "   3.46847586e-02  6.65297687e-01  1.92563069e+00  9.99958456e-01\n",
      "   4.38865662e-01 -3.82739633e-01  4.18440908e-01 -6.36141002e-01\n",
      "   4.09541994e-01 -3.70543629e-01 -9.19522047e-01 -2.70107716e-01\n",
      "  -5.30411601e-01  1.51663832e-02 -2.77643561e-01  9.71806705e-01\n",
      "   3.98687273e-01  5.49860477e-01  4.79416698e-01 -7.45462775e-02\n",
      "   1.09641397e+00 -6.98274791e-01 -7.49594212e-01 -1.32484138e+00\n",
      "   8.23810399e-01  9.04135466e-01 -2.54863352e-01  9.07460570e-01\n",
      "  -6.15017653e-01 -3.07422042e-01  7.62381613e-01  6.43381655e-01\n",
      "   4.56023574e-01 -9.63102639e-01 -1.35123765e+00  5.97686827e-01\n",
      "  -3.93275052e-01  9.04234946e-01  1.31868649e+00  1.07866168e+00\n",
      "  -1.22195505e-01 -8.90335381e-01 -5.94645023e-01 -5.97681820e-01\n",
      "  -3.32270890e-01 -2.24554718e-01 -1.33076489e+00 -8.43748212e-01\n",
      "   4.38159347e-01 -1.16519600e-01 -7.13688061e-02  6.19015098e-01\n",
      "  -1.19789764e-01  6.36785030e-01 -1.67289853e-01 -2.19849031e-02\n",
      "  -1.87478468e-01  3.45992416e-01  2.18273208e-01 -2.46840596e-01\n",
      "   6.49732053e-01 -1.19557464e+00 -1.26684523e+00 -6.45982802e-01\n",
      "   2.09241673e-01  2.37725511e-01  1.68259573e+00  1.21419322e+00\n",
      "   8.88424098e-01 -5.33103526e-01 -1.26744175e+00 -1.20799832e-01\n",
      "  -4.13170815e-01  5.74829876e-01  1.41271770e-01  1.02402195e-01\n",
      "  -1.71599483e+00 -5.71428776e-01 -6.80997133e-01  3.56160462e-01\n",
      "  -1.50184855e-01 -3.58960509e-01 -1.67504445e-01 -2.93872923e-01\n",
      "   9.36104238e-01 -6.76953495e-01 -1.06695795e+00 -9.57518935e-01\n",
      "  -4.94828016e-01 -1.02266446e-01 -1.26741663e-01 -1.22211826e+00\n",
      "  -9.07561779e-01  3.43210608e-01  3.70182663e-01  2.32231036e-01\n",
      "   3.75776529e-01  3.96898359e-01 -4.56616163e-01  1.43883824e-01\n",
      "   3.36101174e-01 -1.86763406e+00 -1.18258588e-01 -1.05686426e-01\n",
      "  -4.03432548e-01  1.49027467e-01 -1.00051284e-01 -1.89614117e-01\n",
      "   1.80140066e+00  1.03778756e+00 -4.88540418e-02  7.04084575e-01\n",
      "   3.42965215e-01 -1.46402442e+00 -2.86364079e-01 -2.62674332e-01\n",
      "   1.18388903e+00  5.74249625e-01 -1.58133045e-01  2.84655273e-01\n",
      "   8.32243264e-01  1.56760609e+00 -8.07782829e-01  1.27753258e-01\n",
      "   3.96508574e-01  1.07496321e+00  8.02454472e-01 -1.81147799e-01\n",
      "  -6.30386993e-02 -8.74132156e-01  5.68353415e-01  3.18014890e-01\n",
      "   3.31112027e-01  7.75931895e-01 -5.51904202e-01  5.71075022e-01\n",
      "   9.56849754e-01  1.09019682e-01 -1.10214460e+00  5.50323963e-01\n",
      "   3.01015645e-01 -2.21470213e+00 -5.94024062e-01 -1.28663912e-01\n",
      "   2.09074929e-01  1.38787556e+00  1.35772932e+00 -1.75106776e+00\n",
      "  -8.29188347e-01  1.50687373e+00  1.07599735e+00  4.78783965e-01\n",
      "   9.19840753e-01  1.06439340e+00  1.55152249e+00 -6.96524441e-01\n",
      "  -6.86878622e-01 -6.21619582e-01  3.29531819e-01  4.64439452e-01\n",
      "   6.24212205e-01  3.99375051e-01 -1.64307785e+00  4.32408929e-01\n",
      "   8.06909502e-01 -3.26833248e-01  1.80760309e-01  3.44679266e-01\n",
      "   5.96246958e-01  9.09925342e-01 -3.33432168e-01  1.68809593e-01\n",
      "   1.58724934e-01  3.15841198e-01 -1.00378549e+00  3.62009466e-01\n",
      "  -2.71135956e-01 -1.07462728e+00  4.80060935e-01  1.16800272e+00\n",
      "  -1.33073265e-02 -1.04522848e+00 -4.72971529e-01 -5.58654666e-01\n",
      "  -9.10267293e-01  1.50419331e+00  3.45764868e-02 -9.24219429e-01\n",
      "   6.04841709e-01 -5.35582364e-01  7.97260106e-01  2.67227739e-01\n",
      "   8.01277161e-01 -6.16955519e-01 -5.20338178e-01 -3.16388518e-01\n",
      "   3.21520060e-01  6.09789670e-01  4.34037358e-01 -1.23244338e-01\n",
      "   2.83109069e-01  3.29853773e-01  2.00714990e-01  1.21344969e-01\n",
      "   1.14092603e-01 -6.15392447e-01  4.18268204e-01 -8.88280451e-01\n",
      "  -6.69861019e-01  4.33893800e-01 -1.03516126e+00  7.47357845e-01\n",
      "   5.19029021e-01  7.42825449e-01 -6.27942681e-01 -1.24840689e+00\n",
      "   9.38850701e-01 -2.75676753e-02 -1.04096341e+00 -2.42508382e-01\n",
      "   9.19460118e-01 -5.51323533e-01 -6.11486256e-01 -1.84572533e-01\n",
      "  -7.92351544e-01  4.69119579e-01  1.16964579e-01 -1.02877200e+00\n",
      "   7.20081665e-03 -3.53489906e-01  3.15034300e-01 -7.19090581e-01\n",
      "  -8.02078843e-01 -5.50282896e-01 -5.38450420e-01 -8.45162496e-02\n",
      "  -3.91085923e-01  7.85099030e-01  4.20812577e-01  9.39967632e-02\n",
      "   1.85864016e-01  1.60028964e-01  2.19585225e-01 -2.60834992e-01\n",
      "   6.30533159e-01 -1.45234072e+00 -4.63662297e-01  6.05370402e-01\n",
      "  -7.55919099e-01 -1.54847133e+00 -1.49503663e-01 -1.13492787e+00\n",
      "   9.13568377e-01 -1.05027044e+00  3.40315163e-01  7.62626305e-02\n",
      "  -8.97962689e-01 -8.46927345e-01 -2.04128727e-01  1.70775339e-01\n",
      "  -1.59793332e-01 -1.00238733e-01  4.01771069e-01  1.20489709e-01\n",
      "  -3.32652271e-01 -3.44487160e-01  3.35006416e-01  1.75209373e-01\n",
      "   4.70408201e-01  2.11335108e-01 -4.26614016e-01 -1.64701641e+00\n",
      "   1.27898723e-01 -4.49414015e-01 -4.71783042e-01 -4.28887129e-01\n",
      "   7.96247303e-01 -1.33900547e+00 -1.50140083e+00 -4.03823614e-01\n",
      "   1.69933587e-01 -9.79994118e-01  6.47697449e-02  2.06553847e-01\n",
      "  -4.06847566e-01  6.65651143e-01 -1.19957924e+00 -5.53462207e-01\n",
      "   5.80648422e-01 -7.85043418e-01 -1.54056340e-01  1.20353624e-01\n",
      "   9.19002518e-02  3.54668528e-01  2.29912564e-01 -2.51815259e-01\n",
      "  -4.92245764e-01 -8.42959046e-01 -5.61241925e-01 -2.89263576e-01\n",
      "   3.34719777e-01  3.00107569e-01  8.41994762e-01 -1.47289562e+00\n",
      "  -8.19769263e-01  2.02923203e+00 -2.73924768e-01  6.17922127e-01\n",
      "  -5.46391070e-01 -6.57717288e-01  1.46579254e+00  5.97012699e-01\n",
      "  -5.12789249e-01 -3.08596164e-01  9.83905196e-01 -5.15931956e-02\n",
      "   1.48103070e+00  9.06218309e-03 -2.39670910e-02 -4.17183697e-01\n",
      "  -3.43293756e-01 -1.30273056e+00  1.19088495e+00  5.03442407e-01\n",
      "   8.18611026e-01 -7.90996924e-02 -8.72442424e-01 -6.05552852e-01\n",
      "   2.09236071e-01  1.45115066e+00 -7.66910553e-01  1.09605737e-01\n",
      "  -8.57830048e-01 -2.66250491e-01 -5.56796551e-01  3.83557975e-01\n",
      "  -7.59478569e-01  5.47021151e-01  2.88398743e-01  2.02483273e+00\n",
      "  -3.30090791e-01 -9.26173747e-01 -2.69333184e-01  3.28228086e-01\n",
      "   7.36753106e-01 -1.07857108e+00  5.66370428e-01  7.30757952e-01\n",
      "  -1.39852494e-01 -4.73539859e-01  2.13593411e+00  1.87383997e+00\n",
      "   2.49174550e-01  3.48457336e-01  1.23726867e-01 -4.75668460e-01\n",
      "   4.61868644e-01 -9.22156274e-01 -1.05330181e+00 -1.03430963e+00\n",
      "  -1.58561134e+00 -7.31589019e-01  3.04593612e-03 -5.04688919e-01\n",
      "   1.49568260e+00 -4.90788400e-01 -3.88149977e-01  3.44979614e-01\n",
      "  -9.42774534e-01 -9.48206067e-01  5.44196606e-01  2.44448617e-01\n",
      "   3.53917032e-01  9.98891234e-01 -1.22010805e-01  2.49775186e-01\n",
      "   3.45046341e-01  1.26379204e+00 -1.19595326e-01  1.81899406e-02\n",
      "  -2.34755918e-01  1.23809671e+00  5.66200197e-01 -9.66623187e-01\n",
      "   9.56209085e-04 -2.63301343e-01  3.47160727e-01  1.33535042e-01\n",
      "   1.93062261e-01 -7.17497230e-01 -4.59601492e-01 -2.45976076e-01\n",
      "   3.34367692e-01 -2.40138099e-01  1.01110554e+00  1.09201610e+00\n",
      "   6.53419420e-02 -2.05556840e-01 -9.73834768e-02  1.26768088e+00\n",
      "  -1.91890359e-01  1.20701623e+00  1.93277985e-01  4.98114437e-01\n",
      "  -1.43958902e+00  6.12387598e-01  5.86117566e-01 -2.23253608e-01\n",
      "  -1.60566136e-01 -2.01911867e-01 -7.74833500e-01  1.35502303e+00\n",
      "  -3.29361677e-01  1.14301622e+00  5.72779834e-01  9.24131498e-02\n",
      "  -8.18003595e-01 -1.41827738e+00 -1.97527006e-01  9.51828718e-01\n",
      "   1.05545330e+00 -4.09444660e-01 -7.85120785e-01 -2.74947733e-01\n",
      "  -4.76107687e-01 -2.65161097e-01  3.09306029e-02 -6.52385533e-01\n",
      "   7.86692798e-01  3.27514261e-01  1.68756738e-01  1.19137563e-01\n",
      "   8.57985988e-02  1.22382867e+00 -2.86772639e-01  8.87928784e-01\n",
      "  -6.08948886e-01 -1.94845378e-01 -8.80154073e-01 -5.15211886e-03\n",
      "  -8.74587417e-01  5.77107310e-01  1.32094371e+00 -4.56903547e-01\n",
      "  -2.54830092e-01 -8.62590194e-01 -2.92494267e-01  6.70160770e-01\n",
      "   4.20296311e-01 -1.20174634e+00  6.85453475e-01 -7.75155187e-01\n",
      "  -7.67477274e-01 -3.52681726e-01  3.02663326e-01  6.75770819e-01\n",
      "   1.95034176e-01  7.01244175e-01  1.80747521e+00  3.75220597e-01\n",
      "   3.00909549e-01  2.07923383e-01  8.66338432e-01  9.47401345e-01\n",
      "  -5.06049633e-01 -1.88034073e-01 -5.84781826e-01  8.98735598e-02]]\n"
     ]
    }
   ],
   "execution_count": 36
  },
  {
   "metadata": {
    "ExecuteTime": {
     "end_time": "2024-10-17T13:55:29.029536Z",
     "start_time": "2024-10-17T13:55:16.778643Z"
    }
   },
   "cell_type": "code",
   "source": [
    "# Calculate the similarity for each pair\n",
    "\n",
    "# Embed and calc cosine\n",
    "embeddings = model.encode(texts, convert_to_tensor=True)\n",
    "inv_embeddings = model.encode(inv_texts, convert_to_tensor=True)\n",
    "\n",
    "sims = torch.nn.functional.cosine_similarity(embeddings, inv_embeddings)\n",
    "\n",
    "sims"
   ],
   "id": "7af8d862e403b148",
   "outputs": [
    {
     "data": {
      "text/plain": [
       "tensor([0.9168, 0.7942, 0.9341,  ..., 0.7440, 0.7657, 0.8106], device='cuda:0')"
      ]
     },
     "execution_count": 37,
     "metadata": {},
     "output_type": "execute_result"
    }
   ],
   "execution_count": 37
  },
  {
   "metadata": {
    "ExecuteTime": {
     "end_time": "2024-10-17T13:55:29.034513Z",
     "start_time": "2024-10-17T13:55:29.030550Z"
    }
   },
   "cell_type": "code",
   "source": "print_top_k(sims)",
   "id": "56ea68514644971e",
   "outputs": [
    {
     "name": "stdout",
     "output_type": "stream",
     "text": [
      "   >>District of Columbia Court of Appeals The District of Columbia Court of Appeals is the highest court of the District of Columbia \n",
      "   >>Court of Appeals for the District of Columbia Court of Appeals for the District of Columbia is the Supreme court of the District of Columbia. The highest court\n",
      "-------------------\n",
      "   >>Haole Haole (; Hawaiian ) is a term used in Hawaii to refer to individuals who are not descendants of the ethnic native Hawaiian \n",
      "   >>\"haole\") is a term used in Hawaii for persons who are not native Hawaiian descendants, although the term \"haole\" may be\n",
      "-------------------\n",
      "   >>Chuck (season 4) The fourth season of \"Chuck\" was announced on May 13, 2010. Having initially ordered 13 episodes, NBC ordered a \n",
      "   >>2010 \"NBC: Chuck\" Season 4 was ordered for 13 episodes for its upcoming fourth season. Season 4 was announced on May 9, 2010 by The All\n",
      "-------------------\n",
      "   >>Scream (Avenged Sevenfold song) \"Scream\" is the fifth and final single from Avenged Sevenfold's self-titled album. It has reache \n",
      "   >>Scream \"Scream\" is the fifth single from Avenged Sevenfold's album \"Scream\". The song is the final single released on\n",
      "-------------------\n",
      "   >>Commission on Sustainable Development The United Nations Commission on Sustainable Development (CSD) was a body under the UN Eco \n",
      "   >>UN Sustainable Development Commission (CSD) was the Commission on Sustainable Development in the UN as a part of the UN general statutory body the ECO\n",
      "-------------------\n",
      "   >>Solar neutrino Electron neutrinos are produced in the Sun as a product of nuclear fusion. Solar neutrinos constitute by far the  \n",
      "   >>solar neutrinos are considered to produce in the nuclear fusion of solar neutrinos in the SUN. Solar electron neutrinos produce the neutr\n",
      "-------------------\n",
      "   >>caught 7 passes for 52 yards (Thomas became the first player in Super Bowl history to score touchdowns in four Super Bowls: he s \n",
      "   >>four touchdowns, tying him for 62 yards as Thomas became the first to catch four touchdowns on seven different passes in as many Super Bowl\n",
      "-------------------\n",
      "   >>single-speed bicycle is a type of bicycle with a single gear ratio. These bicycles are without derailleur gears, hub gearing or  \n",
      "   >>bicycle is a type of single-speed bicycle. These single-speed bikes typically have a single gear ratio with no drimmering gear\n",
      "-------------------\n",
      "   >>Chinese lunar coins In 1981, China began minting coins to commemorate the Chinese New Year. The Chinese lunar series consist of  \n",
      "   >>Chinese lunar coins began to be minted in 1982. Chinese lunar coins are a series of coins to commemorate the Chinese New Year, with each\n",
      "-------------------\n",
      "   >>Salt Lake Cutoff The Salt Lake Cutoff is one of the many shortcuts (or cutoffs) that branched from the California, Mormon and Or \n",
      "   >>Salt Lake Cut-off is one of the many shortcuts, cutoffs, or Mormon splits which derive from California. The Salt Lake Cut\n",
      "-------------------\n"
     ]
    }
   ],
   "execution_count": 38
  },
  {
   "metadata": {
    "ExecuteTime": {
     "end_time": "2024-10-17T13:55:29.039523Z",
     "start_time": "2024-10-17T13:55:29.035517Z"
    }
   },
   "cell_type": "code",
   "source": "sims.mean().item()",
   "id": "ff3564eac647a6c9",
   "outputs": [
    {
     "data": {
      "text/plain": [
       "0.8007254004478455"
      ]
     },
     "execution_count": 39,
     "metadata": {},
     "output_type": "execute_result"
    }
   ],
   "execution_count": 39
  }
 ],
 "metadata": {
  "kernelspec": {
   "display_name": "Python 3",
   "language": "python",
   "name": "python3"
  },
  "language_info": {
   "codemirror_mode": {
    "name": "ipython",
    "version": 2
   },
   "file_extension": ".py",
   "mimetype": "text/x-python",
   "name": "python",
   "nbconvert_exporter": "python",
   "pygments_lexer": "ipython2",
   "version": "2.7.6"
  }
 },
 "nbformat": 4,
 "nbformat_minor": 5
}
